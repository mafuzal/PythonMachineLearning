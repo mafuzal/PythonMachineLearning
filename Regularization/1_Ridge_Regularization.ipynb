{
 "cells": [
  {
   "cell_type": "markdown",
   "id": "5455b676",
   "metadata": {},
   "source": [
    "L2 Regularization - Ridge Regression \n",
    "\n",
    "The Advertising data set consists of the sales of a product\n",
    "in 200 different markets, along with advertising budgets for the product in\n",
    "each of those markets for three different media: TV, radio, and newspaper."
   ]
  },
  {
   "cell_type": "markdown",
   "id": "95f53730",
   "metadata": {},
   "source": [
    "# Imports "
   ]
  },
  {
   "cell_type": "code",
   "execution_count": 4,
   "id": "23da930f",
   "metadata": {},
   "outputs": [],
   "source": [
    "import numpy as np \n",
    "import pandas as pd \n",
    "import matplotlib.pyplot as plt \n",
    "import seaborn as sns "
   ]
  },
  {
   "cell_type": "markdown",
   "id": "62c6967d",
   "metadata": {},
   "source": [
    "# Data and Setup"
   ]
  },
  {
   "cell_type": "code",
   "execution_count": 6,
   "id": "c76983bf",
   "metadata": {},
   "outputs": [],
   "source": [
    "df = pd.read_csv(\"Advertising.csv\")\n",
    "X = df.drop('sales',axis=1)\n",
    "y = df['sales']"
   ]
  },
  {
   "cell_type": "markdown",
   "id": "894183f6",
   "metadata": {},
   "source": [
    "# Polynomial Conversion "
   ]
  },
  {
   "cell_type": "code",
   "execution_count": null,
   "id": "633f86cf",
   "metadata": {},
   "outputs": [],
   "source": []
  }
 ],
 "metadata": {
  "kernelspec": {
   "display_name": "Python 3 (ipykernel)",
   "language": "python",
   "name": "python3"
  },
  "language_info": {
   "codemirror_mode": {
    "name": "ipython",
    "version": 3
   },
   "file_extension": ".py",
   "mimetype": "text/x-python",
   "name": "python",
   "nbconvert_exporter": "python",
   "pygments_lexer": "ipython3",
   "version": "3.9.7"
  }
 },
 "nbformat": 4,
 "nbformat_minor": 5
}
