{
 "cells": [
  {
   "cell_type": "code",
   "execution_count": 1,
   "metadata": {},
   "outputs": [],
   "source": [
    "#Dictionary containing dataset \n",
    "users_feedback = {'Mary': {'The Hobbit': 2.5, \n",
    "                           'The Lord of the Rings': 3.5,\n",
    "                           'Star Trek': 3.0,\n",
    "                           'The Terminator': 3.5,\n",
    "                           'Norbit': 2.5,\n",
    "                           'Star Wars': 3.0},\n",
    "                 \n",
    "                 \n",
    "                 'Peter':{'The Hobbit': 3.0,\n",
    "                          'The Lord of the Rings': 3.5,\n",
    "                          'Star Trek': 1.5,\n",
    "                          'The Terminator': 5.0,\n",
    "                          'Norbit': 3.0,\n",
    "                          'Star Wars': 3.5},\n",
    "                                   \n",
    "                 'Stuart':{'The Hobbit': 2.5,\n",
    "                           'The Lord of the Rings': 3.0,\n",
    "                           'The Terminator': 3.5,\n",
    "                           'Star Wars': 4.0},\n",
    "                  \n",
    "                 'Jessica':{'The Lord of the Rings': 3.5,\n",
    "                            'Star Trek': 3.0,\n",
    "                            'The Terminator': 4.0,\n",
    "                            'Norbit': 2.5,\n",
    "                            'Star Wars': 4.5},\n",
    "                  \n",
    "                 'Paul':{'The Hobbit': 3.0,\n",
    "                          'The Lord of the Rings': 4.0,\n",
    "                          'Star Trek': 2.0,\n",
    "                          'The Terminator': 3.0,\n",
    "                          'Norbit': 2.0,\n",
    "                          'Star Wars': 3.0},\n",
    "                \n",
    "                 'Suzane':{'The Hobbit': 3.0,\n",
    "                          'The Lord of the Rings': 4.0,\n",
    "                          'The Terminator': 5.0,\n",
    "                          'Norbit': 3.5,\n",
    "                          'Star Wars': 3.5},\n",
    "                 \n",
    "                  'Fred':{'The Lord of the Rings': 4.5,\n",
    "                          'The Terminator': 4.0,\n",
    "                          'Norbit': 3.0}\n",
    "                  \n",
    "                 }"
   ]
  },
  {
   "cell_type": "code",
   "execution_count": 2,
   "metadata": {},
   "outputs": [
    {
     "data": {
      "text/plain": [
       "{'Mary': {'The Hobbit': 2.5,\n",
       "  'The Lord of the Rings': 3.5,\n",
       "  'Star Trek': 3.0,\n",
       "  'The Terminator': 3.5,\n",
       "  'Norbit': 2.5,\n",
       "  'Star Wars': 3.0},\n",
       " 'Peter': {'The Hobbit': 3.0,\n",
       "  'The Lord of the Rings': 3.5,\n",
       "  'Star Trek': 1.5,\n",
       "  'The Terminator': 5.0,\n",
       "  'Norbit': 3.0,\n",
       "  'Star Wars': 3.5},\n",
       " 'Stuart': {'The Hobbit': 2.5,\n",
       "  'The Lord of the Rings': 3.0,\n",
       "  'The Terminator': 3.5,\n",
       "  'Star Wars': 4.0},\n",
       " 'Jessica': {'The Lord of the Rings': 3.5,\n",
       "  'Star Trek': 3.0,\n",
       "  'The Terminator': 4.0,\n",
       "  'Norbit': 2.5,\n",
       "  'Star Wars': 4.5},\n",
       " 'Paul': {'The Hobbit': 3.0,\n",
       "  'The Lord of the Rings': 4.0,\n",
       "  'Star Trek': 2.0,\n",
       "  'The Terminator': 3.0,\n",
       "  'Norbit': 2.0,\n",
       "  'Star Wars': 3.0},\n",
       " 'Suzane': {'The Hobbit': 3.0,\n",
       "  'The Lord of the Rings': 4.0,\n",
       "  'The Terminator': 5.0,\n",
       "  'Norbit': 3.5,\n",
       "  'Star Wars': 3.5},\n",
       " 'Fred': {'The Lord of the Rings': 4.5, 'The Terminator': 4.0, 'Norbit': 3.0}}"
      ]
     },
     "execution_count": 2,
     "metadata": {},
     "output_type": "execute_result"
    }
   ],
   "source": [
    "users_feedback"
   ]
  },
  {
   "cell_type": "code",
   "execution_count": 4,
   "metadata": {},
   "outputs": [
    {
     "data": {
      "text/plain": [
       "{'The Hobbit': 2.5,\n",
       " 'The Lord of the Rings': 3.5,\n",
       " 'Star Trek': 3.0,\n",
       " 'The Terminator': 3.5,\n",
       " 'Norbit': 2.5,\n",
       " 'Star Wars': 3.0}"
      ]
     },
     "execution_count": 4,
     "metadata": {},
     "output_type": "execute_result"
    }
   ],
   "source": [
    "users_feedback['Mary']"
   ]
  },
  {
   "cell_type": "code",
   "execution_count": 5,
   "metadata": {},
   "outputs": [
    {
     "data": {
      "text/plain": [
       "3.0"
      ]
     },
     "execution_count": 5,
     "metadata": {},
     "output_type": "execute_result"
    }
   ],
   "source": [
    "users_feedback['Mary']['Star Trek']"
   ]
  },
  {
   "cell_type": "code",
   "execution_count": 6,
   "metadata": {},
   "outputs": [
    {
     "data": {
      "text/plain": [
       "4.5"
      ]
     },
     "execution_count": 6,
     "metadata": {},
     "output_type": "execute_result"
    }
   ],
   "source": [
    "users_feedback['Fred']['The Lord of the Rings']"
   ]
  },
  {
   "cell_type": "code",
   "execution_count": null,
   "metadata": {},
   "outputs": [],
   "source": []
  }
 ],
 "metadata": {
  "kernelspec": {
   "display_name": "Python 3",
   "language": "python",
   "name": "python3"
  },
  "language_info": {
   "codemirror_mode": {
    "name": "ipython",
    "version": 3
   },
   "file_extension": ".py",
   "mimetype": "text/x-python",
   "name": "python",
   "nbconvert_exporter": "python",
   "pygments_lexer": "ipython3",
   "version": "3.7.6"
  }
 },
 "nbformat": 4,
 "nbformat_minor": 4
}
